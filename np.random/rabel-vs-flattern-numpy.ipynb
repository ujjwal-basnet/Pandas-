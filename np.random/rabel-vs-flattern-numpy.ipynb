{
 "cells": [
  {
   "cell_type": "markdown",
   "metadata": {},
   "source": [
    "Both ravel and flattern function is here to covnert  a multi-dimensional array to a single array "
   ]
  },
  {
   "cell_type": "markdown",
   "metadata": {},
   "source": [
    "Ravel function is more memory efficient than flatten() function\n",
    "\n",
    "- because its returns flattern views of original data by avoiding creating new array in memory \n",
    "\n",
    "- whereas flattern function create new copy"
   ]
  },
  {
   "cell_type": "markdown",
   "metadata": {},
   "source": [
    "Implementation "
   ]
  },
  {
   "cell_type": "code",
   "execution_count": null,
   "metadata": {},
   "outputs": [],
   "source": []
  }
 ],
 "metadata": {
  "language_info": {
   "name": "python"
  }
 },
 "nbformat": 4,
 "nbformat_minor": 2
}
